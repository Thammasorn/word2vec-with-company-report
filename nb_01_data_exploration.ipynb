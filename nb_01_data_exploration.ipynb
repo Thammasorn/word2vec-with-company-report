{
 "cells": [
  {
   "cell_type": "code",
   "execution_count": 1,
   "metadata": {},
   "outputs": [],
   "source": [
    "import pickle\n",
    "from pythainlp.corpus.common import thai_stopwords"
   ]
  },
  {
   "cell_type": "code",
   "execution_count": 45,
   "metadata": {},
   "outputs": [],
   "source": [
    "data = pickle.load(open('entriesOct.pickle','rb'))\n",
    "df = data[['Tokenized']].explode('Tokenized')\n",
    "all_word = df.groupby('Tokenized').size().reset_index()\n",
    "all_word.columns = ['word','cnt']\n",
    "all_word['is_stop_word'] = all_word['word'].apply(lambda x: x in thai_stopwords())\n",
    "all_word.sort_values('cnt', ascending=False).to_pickle('word_count.pickle')"
   ]
  }
 ],
 "metadata": {
  "kernelspec": {
   "display_name": "ra",
   "language": "python",
   "name": "python3"
  },
  "language_info": {
   "codemirror_mode": {
    "name": "ipython",
    "version": 3
   },
   "file_extension": ".py",
   "mimetype": "text/x-python",
   "name": "python",
   "nbconvert_exporter": "python",
   "pygments_lexer": "ipython3",
   "version": "3.8.20"
  }
 },
 "nbformat": 4,
 "nbformat_minor": 2
}
