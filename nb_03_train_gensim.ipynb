{
 "cells": [
  {
   "cell_type": "code",
   "execution_count": 1,
   "metadata": {},
   "outputs": [],
   "source": [
    "\n",
    "import pickle\n",
    "from pythainlp.tokenize import word_tokenize\n",
    "from gensim.models import KeyedVectors\n",
    "import numpy as np\n",
    "\n",
    "from sklearn.manifold import TSNE\n",
    "import matplotlib.pyplot as plt\n",
    "import matplotlib.font_manager as fm\n",
    "from pythainlp.corpus.common import thai_stopwords\n",
    "import pandas as pd\n",
    "\n",
    "from pythainlp import word_vector\n",
    "from tqdm import tqdm\n"
   ]
  },
  {
   "cell_type": "code",
   "execution_count": null,
   "metadata": {},
   "outputs": [],
   "source": [
    "model_original = word_vector.WordVector(model_name=\"thai2fit_wv\").get_model() # load thai2fit_wv from pythainlp\n",
    "model = KeyedVectors.load_word2vec_format('/Users/thammasorn.h/Desktop/research-assist/model/LTW2V_v1.0-window5.bin', binary=True, unicode_errors='ignore')\n",
    "data = pickle.load(open('entriesOct.pickle','rb'))\n",
    "import re\n",
    "\n",
    "def preprocess_word_list(word_list, mask=\"<NUM>\"):\n",
    "    word_list = [mask if re.search(r'\\d', word) else word for word in word_list]\n",
    "    word_list = [word for word in word_list if word not in thai_stopwords()]\n",
    "    return word_list\n",
    "data['preprocessed_Tokenized'] = data['Tokenized'].apply(preprocess_word_list)"
   ]
  },
  {
   "cell_type": "code",
   "execution_count": 21,
   "metadata": {},
   "outputs": [],
   "source": [
    "pickle.dump(data['preprocessed_Tokenized'].tolist(), open('preprocessed_Tokenized.pickle','wb'))"
   ]
  },
  {
   "cell_type": "code",
   "execution_count": null,
   "metadata": {},
   "outputs": [],
   "source": [
    "#%%\n",
    "from gensim.models import Word2Vec,KeyedVectors\n",
    "from gensim.models.callbacks import CallbackAny2Vec\n",
    "import time\n",
    "import os\n",
    "import multiprocessing\n",
    "import pickle \n",
    "\n",
    "\n",
    "\n",
    "class EpochLoggerAndSaver(CallbackAny2Vec):\n",
    "    \"\"\"Callback to log information and save the model at the end of each epoch.\"\"\"\n",
    "\n",
    "    def __init__(self, save_path, initial_epoch=0):\n",
    "        self.epoch = initial_epoch\n",
    "        self.save_path = save_path\n",
    "        self.start_time = None\n",
    "\n",
    "        # Create directory if it doesn't exist\n",
    "        os.makedirs(self.save_path, exist_ok=True)\n",
    "\n",
    "    def on_epoch_begin(self, model):\n",
    "        self.start_time = time.time()\n",
    "        print(f\"Starting epoch {self.epoch + 1}\")\n",
    "\n",
    "    def on_epoch_end(self, model):\n",
    "        elapsed_time = time.time() - self.start_time\n",
    "        print(f\"Finished epoch {self.epoch + 1} in {elapsed_time:.2f} seconds.\")\n",
    "        # Save the model\n",
    "        # model_save_path = os.path.join(self.save_path, f\"model_epoch_{self.epoch + 1}.model\")\n",
    "        model_save_path = os.path.join(self.save_path, f\"model.model\")\n",
    "        model.save(model_save_path)\n",
    "        model.wv.save_word2vec_format(model_save_path.replace('.model', '.bin'), binary=False)\n",
    "        print(f\"Model saved to {model_save_path}\")\n",
    "\n",
    "        self.epoch += 1\n",
    "\n",
    "        \n",
    "        \n",
    "# %%\n",
    "sentenceList_input = pickle.load(open('preprocessed_Tokenized.pickle','rb'))\n",
    "cores=multiprocessing.cpu_count()\n",
    "model = Word2Vec(min_count=6,window=9,vector_size=1000,workers=cores//2)\n",
    "model.build_vocab(sentenceList_input)                \n",
    "# model = Word2Vec.load('/home/thammasorn.h/ra/saved_model/model_epoch_69.model')\n",
    "vocab_len=len(model.wv.index_to_key)\n",
    "epoch_logger_and_saver = EpochLoggerAndSaver('saved_model',initial_epoch=0)\n",
    "#%%\n",
    "model.train(\n",
    "    sentenceList_input,\n",
    "    total_examples=model.corpus_count,\n",
    "    epochs=300,\n",
    "    callbacks=[epoch_logger_and_saver]\n",
    ")\n",
    "model.wv.save_word2vec_format('gensim_w2v_model.bin',binary=False)\n",
    "# %%\n"
   ]
  },
  {
   "cell_type": "code",
   "execution_count": null,
   "metadata": {},
   "outputs": [],
   "source": []
  }
 ],
 "metadata": {
  "kernelspec": {
   "display_name": "ra",
   "language": "python",
   "name": "python3"
  },
  "language_info": {
   "codemirror_mode": {
    "name": "ipython",
    "version": 3
   },
   "file_extension": ".py",
   "mimetype": "text/x-python",
   "name": "python",
   "nbconvert_exporter": "python",
   "pygments_lexer": "ipython3",
   "version": "3.8.20"
  }
 },
 "nbformat": 4,
 "nbformat_minor": 2
}
