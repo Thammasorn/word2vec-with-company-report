{
 "cells": [
  {
   "cell_type": "code",
   "execution_count": 9,
   "metadata": {},
   "outputs": [],
   "source": [
    "\n",
    "from pythainlp.tokenize import word_tokenize\n",
    "from gensim.models import KeyedVectors\n",
    "import numpy as np\n",
    "\n",
    "from sklearn.manifold import TSNE\n",
    "import matplotlib.pyplot as plt\n",
    "import matplotlib.font_manager as fm\n",
    "\n",
    "import pandas as pd\n",
    "\n",
    "from pythainlp import word_vector\n",
    "from pythainlp.corpus.common import thai_stopwords\n",
    "from tqdm import tqdm\n",
    "import re\n",
    "\n",
    "from pathlib import Path\n",
    "\n"
   ]
  },
  {
   "cell_type": "code",
   "execution_count": 10,
   "metadata": {},
   "outputs": [],
   "source": [
    "model = KeyedVectors.load_word2vec_format('/Users/thammasorn.h/Desktop/research-assist/model/LTW2V_v1.0-window5.bin', binary=True, unicode_errors='ignore')\n",
    "model_original = word_vector.WordVector(model_name=\"thai2fit_wv\").get_model() # load thai2fit_wv from pythainlp\n",
    "model_trained = KeyedVectors.load_word2vec_format('/Users/thammasorn.h/Desktop/research-assist/model/saved_model/model.bin', binary=False, unicode_errors='ignore')\n",
    "seed_word_df = pd.read_csv('seed-words.csv')\n",
    "seed_word_list = seed_word_df['Keyword (TH)'].tolist()\n",
    "df = pd.read_pickle('word_count.pickle')\n",
    "df = df[df['word'].isin(model.vocab.keys())]\n",
    "df = df[df['word'].isin(model_trained.vocab.keys())]\n",
    "df = df[df['word'].isin(model_original.index2word)]\n",
    "df['is_stop_word'] = df['word'].apply(lambda x: x in thai_stopwords())\n",
    "df = df[~df['is_stop_word']]\n",
    "\n",
    "def clean_word(word):\n",
    "    # Keep only Thai characters (assuming Unicode range \\u0E00-\\u0E7F covers Thai characters)\n",
    "    return re.sub(r'[^ก-๙]', '', word)\n",
    "\n",
    "df['word'] = df['word'].apply(clean_word)\n",
    "df = df[df['word']!='']\n",
    "df = df[df['word'].apply(lambda x: len(x)> 1)]\n",
    "df = df[df['word'].isin(model.vocab.keys())]\n",
    "df = df[df['word'].isin(model_original.index2word)]\n",
    "df = df[df['word'].isin(model_trained.index2word)]\n",
    "df['vector'] = df['word'].apply(model_trained.get_vector)"
   ]
  },
  {
   "cell_type": "code",
   "execution_count": 11,
   "metadata": {},
   "outputs": [
    {
     "data": {
      "text/plain": [
       "20108"
      ]
     },
     "execution_count": 11,
     "metadata": {},
     "output_type": "execute_result"
    }
   ],
   "source": [
    "df.shape[0]"
   ]
  },
  {
   "cell_type": "code",
   "execution_count": 12,
   "metadata": {},
   "outputs": [],
   "source": [
    "result = {}\n",
    "for seed_word in seed_word_list:\n",
    "    if seed_word in model_trained.vocab.keys():\n",
    "        df['similarity_score'] = 1 - df['word'].apply(lambda x: np.min([model_trained.distance(x, seed_word)]))\n",
    "        top_similar_words = model_trained.most_similar(seed_word, topn=30)\n",
    "    else:\n",
    "        list_t = word_tokenize(seed_word)\n",
    "        list_t = [w for w in list_t if w not in thai_stopwords()]\n",
    "        vector = np.zeros_like(model_trained.get_vector('แมว'))\n",
    "        for token in list_t:\n",
    "            vector += model_trained.get_vector(token)\n",
    "        df['similarity_score'] = df['vector'].apply(lambda x: model_trained.cosine_similarities(x, [vector])[0])\n",
    "        top_similar_words = model_trained.similar_by_vector(vector, topn=30)\n",
    "    top_similar_words_in_report = df.sort_values('similarity_score',ascending=False).head(30)\n",
    "    result[seed_word] = {\n",
    "        'top_similar_words_from_model_vocab': pd.DataFrame(top_similar_words, columns=['word','similarity_score']),\n",
    "        'top_similar_words_from_dataset': top_similar_words_in_report[['word','similarity_score']].reset_index(drop=True)   \n",
    "    }"
   ]
  },
  {
   "cell_type": "code",
   "execution_count": 13,
   "metadata": {},
   "outputs": [],
   "source": [
    "top_similar_words_from_model_vocab = []\n",
    "top_similar_words_from_dataset = []\n",
    "for seed_word in seed_word_list:\n",
    "    Path(f'result/nb_05/trained/{seed_word}/').mkdir(exist_ok=True, parents=True)\n",
    "    for result_name in ['top_similar_words_from_model_vocab','top_similar_words_from_dataset']:\n",
    "        result[seed_word][result_name].to_csv(f'result/nb_05/trained/{seed_word}/{result_name}.csv',index=False)\n",
    "        if result_name == 'top_similar_words_from_model_vocab':\n",
    "            result_df = result[seed_word][result_name]\n",
    "            result_df['seed_word'] = seed_word\n",
    "            top_similar_words_from_model_vocab += [result_df.copy()]\n",
    "        else:\n",
    "            result_df = result[seed_word][result_name]\n",
    "            result_df['seed_word'] = seed_word\n",
    "            top_similar_words_from_dataset += [result_df.copy()]"
   ]
  },
  {
   "cell_type": "code",
   "execution_count": 14,
   "metadata": {},
   "outputs": [],
   "source": [
    "top_similar_words_from_dataset = pd.concat(top_similar_words_from_dataset)\n",
    "top_similar_words_from_model_vocab = pd.concat(top_similar_words_from_model_vocab)"
   ]
  },
  {
   "cell_type": "code",
   "execution_count": 15,
   "metadata": {},
   "outputs": [],
   "source": [
    "top_similar_words_from_dataset.to_csv('result/nb_05/trained/top_similar_words_from_dataset.csv', index=False)\n",
    "top_similar_words_from_model_vocab.to_csv('result/nb_05/trained/top_similar_words_from_model_vocab.csv', index=False)"
   ]
  },
  {
   "cell_type": "code",
   "execution_count": null,
   "metadata": {},
   "outputs": [],
   "source": []
  }
 ],
 "metadata": {
  "kernelspec": {
   "display_name": "ra",
   "language": "python",
   "name": "python3"
  },
  "language_info": {
   "codemirror_mode": {
    "name": "ipython",
    "version": 3
   },
   "file_extension": ".py",
   "mimetype": "text/x-python",
   "name": "python",
   "nbconvert_exporter": "python",
   "pygments_lexer": "ipython3",
   "version": "3.8.20"
  }
 },
 "nbformat": 4,
 "nbformat_minor": 2
}
